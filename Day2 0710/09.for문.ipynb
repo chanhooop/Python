{
 "cells": [
  {
   "cell_type": "markdown",
   "id": "869bbbe6",
   "metadata": {},
   "source": [
    "## range 함수\n",
    "range(시작숫자, 끝숫자, 증가값)"
   ]
  },
  {
   "cell_type": "code",
   "execution_count": 3,
   "id": "66f199de",
   "metadata": {},
   "outputs": [
    {
     "data": {
      "text/plain": [
       "range(1, 11)"
      ]
     },
     "execution_count": 3,
     "metadata": {},
     "output_type": "execute_result"
    }
   ],
   "source": [
    "var=range(1,11)\n",
    "var"
   ]
  },
  {
   "cell_type": "code",
   "execution_count": 4,
   "id": "f58a4c61",
   "metadata": {},
   "outputs": [
    {
     "data": {
      "text/plain": [
       "[1, 2, 3, 4, 5, 6, 7, 8, 9, 10]"
      ]
     },
     "execution_count": 4,
     "metadata": {},
     "output_type": "execute_result"
    }
   ],
   "source": [
    "# range의 범위를 list로 출력\n",
    "\n",
    "list(range(1,11))\n",
    "\n",
    "#출력시 list로 감싸주기"
   ]
  },
  {
   "cell_type": "code",
   "execution_count": 6,
   "id": "f883ac47",
   "metadata": {},
   "outputs": [
    {
     "data": {
      "text/plain": [
       "[0, 2, 4, 6, 8, 10]"
      ]
     },
     "execution_count": 6,
     "metadata": {},
     "output_type": "execute_result"
    }
   ],
   "source": [
    "list(range(0,11,2))"
   ]
  },
  {
   "cell_type": "code",
   "execution_count": 8,
   "id": "4c54315b",
   "metadata": {},
   "outputs": [
    {
     "data": {
      "text/plain": [
       "[10, 8, 6, 4, 2]"
      ]
     },
     "execution_count": 8,
     "metadata": {},
     "output_type": "execute_result"
    }
   ],
   "source": [
    "list(range(10,0,-2))"
   ]
  },
  {
   "cell_type": "code",
   "execution_count": 11,
   "id": "4afba527",
   "metadata": {},
   "outputs": [
    {
     "data": {
      "text/plain": [
       "[]"
      ]
     },
     "execution_count": 11,
     "metadata": {},
     "output_type": "execute_result"
    }
   ],
   "source": [
    "# error가 안난다 잘 확인해야한다\n",
    "list(range(0,10,-2))"
   ]
  },
  {
   "cell_type": "code",
   "execution_count": 12,
   "id": "030faabe",
   "metadata": {},
   "outputs": [
    {
     "data": {
      "text/plain": [
       "10"
      ]
     },
     "execution_count": 12,
     "metadata": {},
     "output_type": "execute_result"
    }
   ],
   "source": [
    "var[9]"
   ]
  },
  {
   "cell_type": "code",
   "execution_count": 14,
   "id": "2a3c1ee7",
   "metadata": {},
   "outputs": [
    {
     "data": {
      "text/plain": [
       "range"
      ]
     },
     "execution_count": 14,
     "metadata": {},
     "output_type": "execute_result"
    }
   ],
   "source": [
    "type(var)"
   ]
  },
  {
   "cell_type": "markdown",
   "id": "b665d8d3",
   "metadata": {},
   "source": [
    "## for문에 range함수 사용하기"
   ]
  },
  {
   "cell_type": "code",
   "execution_count": 16,
   "id": "3082168e",
   "metadata": {},
   "outputs": [
    {
     "name": "stdout",
     "output_type": "stream",
     "text": [
      "1\n",
      "2\n",
      "3\n",
      "4\n",
      "5\n",
      "6\n",
      "7\n",
      "8\n",
      "9\n",
      "10\n"
     ]
    }
   ],
   "source": [
    "for i in range(1,11):\n",
    "    print(i)"
   ]
  },
  {
   "cell_type": "code",
   "execution_count": 17,
   "id": "000082c6",
   "metadata": {},
   "outputs": [
    {
     "name": "stdout",
     "output_type": "stream",
     "text": [
      "0\n",
      "1\n",
      "2\n",
      "3\n",
      "4\n"
     ]
    }
   ],
   "source": [
    "for i in range(5):\n",
    "    print(i)"
   ]
  },
  {
   "cell_type": "code",
   "execution_count": 18,
   "id": "26c83cd8",
   "metadata": {},
   "outputs": [
    {
     "name": "stdout",
     "output_type": "stream",
     "text": [
      "1\n",
      "3\n",
      "5\n",
      "7\n",
      "9\n"
     ]
    }
   ],
   "source": [
    "# 1부터 10까지의 수중 홀수 안 출력하기\n",
    "\n",
    "for i in range(1,11,2):\n",
    "    print(i)\n",
    "\n",
    "# 데이터를 홀수로만 주고 출력하면 된다"
   ]
  },
  {
   "cell_type": "code",
   "execution_count": 26,
   "id": "92ec8bdb",
   "metadata": {},
   "outputs": [
    {
     "name": "stdout",
     "output_type": "stream",
     "text": [
      "9 x 1 = 9\n",
      "9 x 1 =  9\n",
      "9 x 2 = 18\n",
      "9 x 2 = 18\n",
      "9 x 3 = 27\n",
      "9 x 3 = 27\n",
      "9 x 4 = 36\n",
      "9 x 4 = 36\n",
      "9 x 5 = 45\n",
      "9 x 5 = 45\n",
      "9 x 6 = 54\n",
      "9 x 6 = 54\n",
      "9 x 7 = 63\n",
      "9 x 7 = 63\n",
      "9 x 8 = 72\n",
      "9 x 8 = 72\n",
      "9 x 9 = 81\n",
      "9 x 9 = 81\n"
     ]
    }
   ],
   "source": [
    "# 구구단 9단 출력\n",
    "j=9\n",
    "\n",
    "for i in range(1,10):\n",
    "    print(j,'x',i,'=',(i*j))\n",
    "    print(j,'x',i,'=','%2d'%(i*j)) # 자릿수 맞추기"
   ]
  },
  {
   "cell_type": "code",
   "execution_count": 29,
   "id": "be671a6b",
   "metadata": {},
   "outputs": [
    {
     "name": "stdout",
     "output_type": "stream",
     "text": [
      "aaa bbb\n"
     ]
    }
   ],
   "source": [
    "# 프린트 문장을 옆으로 출력 하려면 끝에 ,end = ''\n",
    "print('aaa', end = ' ')\n",
    "print('bbb')"
   ]
  },
  {
   "cell_type": "code",
   "execution_count": 36,
   "id": "8232d014",
   "metadata": {},
   "outputs": [
    {
     "name": "stdout",
     "output_type": "stream",
     "text": [
      "2 4 6 8 10 12 14 16 18\n",
      "3 6 9 12 15 18 21 24 27\n",
      "4 8 12 16 20 24 28 32 36\n",
      "5 10 15 20 25 30 35 40 45\n",
      "6 12 18 24 30 36 42 48 54\n",
      "7 14 21 28 35 42 49 56 63\n",
      "8 16 24 32 40 48 56 64 72\n",
      "9 18 27 36 45 54 63 72 81\n"
     ]
    }
   ],
   "source": [
    " for j in range(2,10):\n",
    "    for i in range(1,10):\n",
    "        if(i!=9):\n",
    "            print(i*j, end = ' ')\n",
    "        else: print(i*j)"
   ]
  },
  {
   "cell_type": "markdown",
   "id": "b2eea44c",
   "metadata": {},
   "source": [
    "## for문에 List사용"
   ]
  },
  {
   "cell_type": "code",
   "execution_count": 42,
   "id": "e4e1ea1c",
   "metadata": {},
   "outputs": [
    {
     "name": "stdout",
     "output_type": "stream",
     "text": [
      "one\n",
      "two\n",
      "three\n"
     ]
    }
   ],
   "source": [
    "test_list = ['one',\"two\",'three']\n",
    "\n",
    "for i in test_list:\n",
    "    print(i)"
   ]
  },
  {
   "cell_type": "code",
   "execution_count": 43,
   "id": "15a0b903",
   "metadata": {},
   "outputs": [
    {
     "name": "stdout",
     "output_type": "stream",
     "text": [
      "80.75\n"
     ]
    }
   ],
   "source": [
    "# 평균 구하기\n",
    "scores = [78, 85, 95, 65]\n",
    "\n",
    "total = 0\n",
    "for score in scores:\n",
    "    total += score\n",
    "print(total / len(scores))"
   ]
  },
  {
   "cell_type": "markdown",
   "id": "85f32bb0",
   "metadata": {},
   "source": [
    "## for문에 Tuple사용하기"
   ]
  },
  {
   "cell_type": "code",
   "execution_count": 45,
   "id": "5b90cf2f",
   "metadata": {},
   "outputs": [
    {
     "name": "stdout",
     "output_type": "stream",
     "text": [
      "1 : 2\n",
      "3 : 4\n",
      "5 : 6\n"
     ]
    }
   ],
   "source": [
    "var = [(1,2),(3,4), (5,6)]\n",
    "\n",
    "for first, last in var:\n",
    "    print(first,\":\", last)"
   ]
  },
  {
   "cell_type": "code",
   "execution_count": 49,
   "id": "0b364d6d",
   "metadata": {},
   "outputs": [
    {
     "name": "stdout",
     "output_type": "stream",
     "text": [
      "21\n"
     ]
    }
   ],
   "source": [
    "sum1 = 0\n",
    "for first, last in var:\n",
    "    sum1 += first + last\n",
    "    \n",
    "print(sum1)\n"
   ]
  },
  {
   "cell_type": "markdown",
   "id": "1942fed4",
   "metadata": {},
   "source": [
    "총 5명의 학생이 시험을 보았는데, 시험점수가 60점을 넘으면 합격이고,\n",
    "그렇지 않으면 불합격이다.\n",
    "합격, 불합격 결과 보여주기"
   ]
  },
  {
   "cell_type": "code",
   "execution_count": 58,
   "id": "3f08d12f",
   "metadata": {},
   "outputs": [
    {
     "name": "stdout",
     "output_type": "stream",
     "text": [
      "1 의 학생은 합격 입니다.\n",
      "2 의 학생은 불합격 입니다.\n",
      "3 의 학생은 합격 입니다.\n",
      "4 의 학생은 불합격 입니다.\n",
      "5 의 학생은 합격 입니다.\n"
     ]
    }
   ],
   "source": [
    "scores = [90, 25, 67, 45, 80]\n",
    "\n",
    "for number in range(len(scores)):\n",
    "    if scores[number] >= 60:\n",
    "        print(number+1,\"의 학생은 합격 입니다.\")\n",
    "    else : print(number+1, \"의 학생은 불합격 입니다.\")\n",
    "    "
   ]
  },
  {
   "cell_type": "code",
   "execution_count": null,
   "id": "b3f98738",
   "metadata": {},
   "outputs": [],
   "source": []
  },
  {
   "cell_type": "code",
   "execution_count": null,
   "id": "012a97ca",
   "metadata": {},
   "outputs": [],
   "source": []
  },
  {
   "cell_type": "code",
   "execution_count": null,
   "id": "d3d9cd68",
   "metadata": {},
   "outputs": [],
   "source": []
  },
  {
   "cell_type": "code",
   "execution_count": null,
   "id": "29046221",
   "metadata": {},
   "outputs": [],
   "source": []
  },
  {
   "cell_type": "code",
   "execution_count": null,
   "id": "bde48c58",
   "metadata": {},
   "outputs": [],
   "source": []
  },
  {
   "cell_type": "code",
   "execution_count": null,
   "id": "49b4cecd",
   "metadata": {},
   "outputs": [],
   "source": []
  },
  {
   "cell_type": "code",
   "execution_count": null,
   "id": "f2eccb10",
   "metadata": {},
   "outputs": [],
   "source": []
  },
  {
   "cell_type": "code",
   "execution_count": null,
   "id": "138d5df2",
   "metadata": {},
   "outputs": [],
   "source": []
  },
  {
   "cell_type": "code",
   "execution_count": null,
   "id": "6615e1f8",
   "metadata": {},
   "outputs": [],
   "source": []
  }
 ],
 "metadata": {
  "kernelspec": {
   "display_name": "Python 3",
   "language": "python",
   "name": "python3"
  },
  "language_info": {
   "codemirror_mode": {
    "name": "ipython",
    "version": 3
   },
   "file_extension": ".py",
   "mimetype": "text/x-python",
   "name": "python",
   "nbconvert_exporter": "python",
   "pygments_lexer": "ipython3",
   "version": "3.8.8"
  }
 },
 "nbformat": 4,
 "nbformat_minor": 5
}
