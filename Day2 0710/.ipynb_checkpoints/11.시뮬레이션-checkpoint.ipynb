{
 "cells": [
  {
   "cell_type": "markdown",
   "id": "b6361d29",
   "metadata": {},
   "source": [
    "# 몬테카를로 시뮬레이션ㅡ\n",
    ": 자료가 없을 경우 난수를 통해서 가설 증명\n"
   ]
  },
  {
   "cell_type": "markdown",
   "id": "fee25f84",
   "metadata": {},
   "source": [
    "## 동전의 앞면과 뒷면이 나올 확률이 같다는 것을 증명"
   ]
  },
  {
   "cell_type": "code",
   "execution_count": 3,
   "id": "00857fe0",
   "metadata": {},
   "outputs": [],
   "source": [
    "# ahebf qnffjdhrl\n",
    "import random"
   ]
  },
  {
   "cell_type": "code",
   "execution_count": 7,
   "id": "a54182ec",
   "metadata": {},
   "outputs": [
    {
     "data": {
      "text/plain": [
       "5"
      ]
     },
     "execution_count": 7,
     "metadata": {},
     "output_type": "execute_result"
    }
   ],
   "source": [
    "random.randint(1,10)"
   ]
  },
  {
   "cell_type": "code",
   "execution_count": 45,
   "id": "77be7698",
   "metadata": {},
   "outputs": [
    {
     "name": "stdout",
     "output_type": "stream",
     "text": [
      "뒷면\n"
     ]
    }
   ],
   "source": [
    "# 나나수를 통한 방법\n",
    "x = random.randint(1,2)\n",
    "if x == 1:\n",
    "    result = \"앞면\"\n",
    "else:\n",
    "    result =\"뒷면\"\n",
    "    \n",
    "print(result)"
   ]
  },
  {
   "cell_type": "code",
   "execution_count": 46,
   "id": "1a22a704",
   "metadata": {},
   "outputs": [],
   "source": [
    "def coinF(n):\n",
    "    coinFront = coinRear = 0\n",
    "    for i in range(1, n+1):\n",
    "        x = random.randint(1,2)\n",
    "        if x == 1:\n",
    "            coinFront += 1\n",
    "        else:\n",
    "            coinRear +=1\n",
    "    print(\"%7d번 시도시 동전의 앞면은 %6d번이고 동전의 뒷면은 %6d번 입니다.\" %(n,coinFront, coinRear))"
   ]
  },
  {
   "cell_type": "code",
   "execution_count": 43,
   "id": "f5cedca6",
   "metadata": {},
   "outputs": [
    {
     "name": "stdout",
     "output_type": "stream",
     "text": [
      "10번 시도시 동전의 앞면은 5번이고 동전의 뒷면은 5번 입니다.\n"
     ]
    }
   ],
   "source": [
    "coinF(10)"
   ]
  },
  {
   "cell_type": "code",
   "execution_count": 47,
   "id": "6f233c43",
   "metadata": {},
   "outputs": [
    {
     "name": "stdout",
     "output_type": "stream",
     "text": [
      "     10번 시도시 동전의 앞면은      6번이고 동전의 뒷면은      4번 입니다.\n",
      "    100번 시도시 동전의 앞면은     59번이고 동전의 뒷면은     41번 입니다.\n",
      "   1000번 시도시 동전의 앞면은    501번이고 동전의 뒷면은    499번 입니다.\n",
      "  10000번 시도시 동전의 앞면은   5006번이고 동전의 뒷면은   4994번 입니다.\n",
      " 100000번 시도시 동전의 앞면은  50066번이고 동전의 뒷면은  49934번 입니다.\n",
      "1000000번 시도시 동전의 앞면은 500656번이고 동전의 뒷면은 499344번 입니다.\n"
     ]
    }
   ],
   "source": [
    "coinF(10)\n",
    "coinF(100)\n",
    "coinF(1000)\n",
    "coinF(10000)\n",
    "coinF(100000)\n",
    "coinF(1000000)"
   ]
  },
  {
   "cell_type": "code",
   "execution_count": 6,
   "id": "80623d7a",
   "metadata": {},
   "outputs": [],
   "source": [
    "# 가위, 바위, 보 게임이 이길 확률이 같다는 것을 증명\n",
    "\n",
    "def rock(n):\n",
    "    ro = se = pa = 0\n",
    "    for i in range(1, n+1):\n",
    "        x = random.randint(1,3)\n",
    "        if x == 1:\n",
    "            ro += 1\n",
    "        elif x == 2:\n",
    "            se += 1\n",
    "        else :\n",
    "            pa +=1\n",
    "    print(\"%d번 시도시 바위는 %d번 이기고 가위는 %d번 이기고 보는 %d번 이기고\" %(n, ro, se, pa))\n",
    "    "
   ]
  },
  {
   "cell_type": "code",
   "execution_count": 7,
   "id": "c8572b78",
   "metadata": {},
   "outputs": [
    {
     "name": "stdout",
     "output_type": "stream",
     "text": [
      "10번 시도시 바위는 2번 이기고 가위는 2번 이기고 보는 6번 이기고\n"
     ]
    }
   ],
   "source": [
    "rock(10)"
   ]
  },
  {
   "cell_type": "code",
   "execution_count": 9,
   "id": "4356776f",
   "metadata": {},
   "outputs": [
    {
     "name": "stdout",
     "output_type": "stream",
     "text": [
      "10번 시도시 바위는 3번 이기고 가위는 3번 이기고 보는 4번 이기고\n",
      "100번 시도시 바위는 26번 이기고 가위는 32번 이기고 보는 42번 이기고\n",
      "1000번 시도시 바위는 325번 이기고 가위는 351번 이기고 보는 324번 이기고\n",
      "10000번 시도시 바위는 3377번 이기고 가위는 3338번 이기고 보는 3285번 이기고\n",
      "100000번 시도시 바위는 33422번 이기고 가위는 33266번 이기고 보는 33312번 이기고\n",
      "1000000번 시도시 바위는 333262번 이기고 가위는 333564번 이기고 보는 333174번 이기고\n"
     ]
    }
   ],
   "source": [
    "rock(10)\n",
    "rock(100)\n",
    "rock(1000)\n",
    "rock(10000)\n",
    "rock(100000)\n",
    "rock(1000000)"
   ]
  },
  {
   "cell_type": "code",
   "execution_count": null,
   "id": "a80b7e91",
   "metadata": {},
   "outputs": [],
   "source": []
  },
  {
   "cell_type": "code",
   "execution_count": null,
   "id": "fb4aba11",
   "metadata": {},
   "outputs": [],
   "source": []
  },
  {
   "cell_type": "code",
   "execution_count": null,
   "id": "2962db55",
   "metadata": {},
   "outputs": [],
   "source": []
  },
  {
   "cell_type": "code",
   "execution_count": null,
   "id": "b84b1908",
   "metadata": {},
   "outputs": [],
   "source": []
  },
  {
   "cell_type": "code",
   "execution_count": null,
   "id": "bce1e6d6",
   "metadata": {},
   "outputs": [],
   "source": []
  },
  {
   "cell_type": "code",
   "execution_count": null,
   "id": "d6b18eaf",
   "metadata": {},
   "outputs": [],
   "source": []
  }
 ],
 "metadata": {
  "kernelspec": {
   "display_name": "Python 3",
   "language": "python",
   "name": "python3"
  },
  "language_info": {
   "codemirror_mode": {
    "name": "ipython",
    "version": 3
   },
   "file_extension": ".py",
   "mimetype": "text/x-python",
   "name": "python",
   "nbconvert_exporter": "python",
   "pygments_lexer": "ipython3",
   "version": "3.8.8"
  }
 },
 "nbformat": 4,
 "nbformat_minor": 5
}
