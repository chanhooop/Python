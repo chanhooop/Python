{
 "cells": [
  {
   "cell_type": "markdown",
   "id": "ced16bbd",
   "metadata": {},
   "source": [
    "# 파일 읽고 쓰기\n",
    "- 파일 객체 : open(파일 이름, 파일 열기 모드)\n",
    "- 파일 열기 모드 : x(읽기모드), w(쓰기모드), a(추가모드)"
   ]
  },
  {
   "cell_type": "code",
   "execution_count": 33,
   "id": "707d7127",
   "metadata": {},
   "outputs": [],
   "source": [
    "# 파일을 쓰기모드로 열어 출력값 저장하기\n",
    "\n",
    "f = open(\"./Data/new.txt\", \"w\")\n",
    "for i in range(1,11):\n",
    "    data = \"%d번째 줄 입니다.\\n\"%i\n",
    "    f.write(data)\n",
    "f.close()"
   ]
  },
  {
   "cell_type": "code",
   "execution_count": 34,
   "id": "8d1d6d17",
   "metadata": {},
   "outputs": [
    {
     "name": "stdout",
     "output_type": "stream",
     "text": [
      "1번째 줄 입니다.\n",
      "\n",
      "2번째 줄 입니다.\n",
      "\n",
      "3번째 줄 입니다.\n",
      "\n",
      "4번째 줄 입니다.\n",
      "\n",
      "5번째 줄 입니다.\n",
      "\n",
      "6번째 줄 입니다.\n",
      "\n",
      "7번째 줄 입니다.\n",
      "\n",
      "8번째 줄 입니다.\n",
      "\n",
      "9번째 줄 입니다.\n",
      "\n",
      "10번째 줄 입니다.\n",
      "\n"
     ]
    }
   ],
   "source": [
    "# 파일 일기모드로 내용 출력하기 - 1\n",
    "\n",
    "f = open(\"./Data/new.txt\", \"r\")\n",
    "while True:\n",
    "    line = f.readline()\n",
    "    if not line:\n",
    "        break\n",
    "    print(line)\n",
    "f.close()\n"
   ]
  },
  {
   "cell_type": "code",
   "execution_count": 43,
   "id": "313245c6",
   "metadata": {},
   "outputs": [
    {
     "name": "stdout",
     "output_type": "stream",
     "text": [
      "1번째 줄 입니다.\n",
      "\n",
      "2번째 줄 입니다.\n",
      "\n",
      "3번째 줄 입니다.\n",
      "\n",
      "4번째 줄 입니다.\n",
      "\n",
      "5번째 줄 입니다.\n",
      "\n",
      "6번째 줄 입니다.\n",
      "\n",
      "7번째 줄 입니다.\n",
      "\n",
      "8번째 줄 입니다.\n",
      "\n",
      "9번째 줄 입니다.\n",
      "\n",
      "10번째 줄 입니다.\n",
      "\n"
     ]
    },
    {
     "data": {
      "text/plain": [
       "<function TextIOWrapper.close()>"
      ]
     },
     "execution_count": 43,
     "metadata": {},
     "output_type": "execute_result"
    }
   ],
   "source": [
    "# 파일 읽기모드로 내용 출력하기 - 2\n",
    "\n",
    "f = open(\"./Data/new.txt\", \"r\")\n",
    "lines = f.readlines()\n",
    "for line in lines:\n",
    "    print(line)\n",
    "f.close"
   ]
  },
  {
   "cell_type": "code",
   "execution_count": 36,
   "id": "1ba6a5c8",
   "metadata": {},
   "outputs": [
    {
     "name": "stdout",
     "output_type": "stream",
     "text": [
      "1번째 줄 입니다.\n",
      "2번째 줄 입니다.\n",
      "3번째 줄 입니다.\n",
      "4번째 줄 입니다.\n",
      "5번째 줄 입니다.\n",
      "6번째 줄 입니다.\n",
      "7번째 줄 입니다.\n",
      "8번째 줄 입니다.\n",
      "9번째 줄 입니다.\n",
      "10번째 줄 입니다.\n",
      "\n"
     ]
    }
   ],
   "source": [
    "# 파일 읽기모드로 내용 출력하기 - 3\n",
    "f = open(\"./Data/new.txt\", \"r\")\n",
    "data = f.read()\n",
    "print(data)\n",
    "f.close()"
   ]
  },
  {
   "cell_type": "markdown",
   "id": "542e2f64",
   "metadata": {},
   "source": [
    "# with문\n",
    ":파일의 열고 닫음을 자동으로 처리하기 위해 사용되면 with문을 벗어나면 자동으로 close()"
   ]
  },
  {
   "cell_type": "code",
   "execution_count": 37,
   "id": "ba638093",
   "metadata": {},
   "outputs": [],
   "source": [
    "# 파일 만들기\n",
    "with open(\"./Data/new2.txt\", \"w\") as f:\n",
    "    for i in range(1,11):\n",
    "        data = \"%d번째 줄 입니다.\\n\" %i\n",
    "        f.write(data)"
   ]
  },
  {
   "cell_type": "code",
   "execution_count": 38,
   "id": "bc180366",
   "metadata": {},
   "outputs": [
    {
     "name": "stdout",
     "output_type": "stream",
     "text": [
      "1번째 줄 입니다.\n",
      "2번째 줄 입니다.\n",
      "3번째 줄 입니다.\n",
      "4번째 줄 입니다.\n",
      "5번째 줄 입니다.\n",
      "6번째 줄 입니다.\n",
      "7번째 줄 입니다.\n",
      "8번째 줄 입니다.\n",
      "9번째 줄 입니다.\n",
      "10번째 줄 입니다.\n",
      "\n"
     ]
    }
   ],
   "source": [
    "#  파일 일겅오기\n",
    "with open(\"./Data/new2.txt\", \"r\") as f:\n",
    "    data = f.read()\n",
    "    print(data)"
   ]
  },
  {
   "cell_type": "markdown",
   "id": "3cf96237",
   "metadata": {},
   "source": [
    "# Pandas로 불러오기"
   ]
  },
  {
   "cell_type": "code",
   "execution_count": 31,
   "id": "e2998516",
   "metadata": {},
   "outputs": [],
   "source": [
    "import pandas as pd"
   ]
  },
  {
   "cell_type": "code",
   "execution_count": 41,
   "id": "9af2286a",
   "metadata": {},
   "outputs": [
    {
     "data": {
      "text/html": [
       "<div>\n",
       "<style scoped>\n",
       "    .dataframe tbody tr th:only-of-type {\n",
       "        vertical-align: middle;\n",
       "    }\n",
       "\n",
       "    .dataframe tbody tr th {\n",
       "        vertical-align: top;\n",
       "    }\n",
       "\n",
       "    .dataframe thead th {\n",
       "        text-align: right;\n",
       "    }\n",
       "</style>\n",
       "<table border=\"1\" class=\"dataframe\">\n",
       "  <thead>\n",
       "    <tr style=\"text-align: right;\">\n",
       "      <th></th>\n",
       "      <th>0</th>\n",
       "    </tr>\n",
       "  </thead>\n",
       "  <tbody>\n",
       "    <tr>\n",
       "      <th>5</th>\n",
       "      <td>6��° �� �Դϴ�.</td>\n",
       "    </tr>\n",
       "    <tr>\n",
       "      <th>6</th>\n",
       "      <td>7��° �� �Դϴ�.</td>\n",
       "    </tr>\n",
       "    <tr>\n",
       "      <th>7</th>\n",
       "      <td>8��° �� �Դϴ�.</td>\n",
       "    </tr>\n",
       "    <tr>\n",
       "      <th>8</th>\n",
       "      <td>9��° �� �Դϴ�.</td>\n",
       "    </tr>\n",
       "    <tr>\n",
       "      <th>9</th>\n",
       "      <td>10��° �� �Դϴ�.</td>\n",
       "    </tr>\n",
       "  </tbody>\n",
       "</table>\n",
       "</div>"
      ],
      "text/plain": [
       "                0\n",
       "5   6��° �� �Դϴ�.\n",
       "6   7��° �� �Դϴ�.\n",
       "7   8��° �� �Դϴ�.\n",
       "8   9��° �� �Դϴ�.\n",
       "9  10��° �� �Դϴ�."
      ]
     },
     "execution_count": 41,
     "metadata": {},
     "output_type": "execute_result"
    }
   ],
   "source": [
    "txtSample = pd.read_table(\"./Data/new.txt\", header=None)\n",
    "txtSample.head()\n",
    "txtSample.tail()"
   ]
  },
  {
   "cell_type": "markdown",
   "id": "e1cc382a",
   "metadata": {},
   "source": [
    "# 외장함수"
   ]
  },
  {
   "cell_type": "code",
   "execution_count": 4,
   "id": "ce9e3bd6",
   "metadata": {},
   "outputs": [
    {
     "name": "stdout",
     "output_type": "stream",
     "text": [
      "0\n",
      "1\n",
      "2\n",
      "3\n",
      "4\n",
      "5\n",
      "6\n",
      "7\n",
      "8\n",
      "9\n"
     ]
    }
   ],
   "source": [
    "# time. sleep :일정시간 간격으로 Loop를 실행\n",
    "import time\n",
    "\n",
    "for i in range(10):\n",
    "    print(i)\n",
    "    time.sleep(1)"
   ]
  },
  {
   "cell_type": "code",
   "execution_count": 6,
   "id": "630a3d28",
   "metadata": {},
   "outputs": [
    {
     "name": "stdout",
     "output_type": "stream",
     "text": [
      "                                  2021\n",
      "\n",
      "      January                   February                   March\n",
      "Mo Tu We Th Fr Sa Su      Mo Tu We Th Fr Sa Su      Mo Tu We Th Fr Sa Su\n",
      "             1  2  3       1  2  3  4  5  6  7       1  2  3  4  5  6  7\n",
      " 4  5  6  7  8  9 10       8  9 10 11 12 13 14       8  9 10 11 12 13 14\n",
      "11 12 13 14 15 16 17      15 16 17 18 19 20 21      15 16 17 18 19 20 21\n",
      "18 19 20 21 22 23 24      22 23 24 25 26 27 28      22 23 24 25 26 27 28\n",
      "25 26 27 28 29 30 31                                29 30 31\n",
      "\n",
      "       April                      May                       June\n",
      "Mo Tu We Th Fr Sa Su      Mo Tu We Th Fr Sa Su      Mo Tu We Th Fr Sa Su\n",
      "          1  2  3  4                      1  2          1  2  3  4  5  6\n",
      " 5  6  7  8  9 10 11       3  4  5  6  7  8  9       7  8  9 10 11 12 13\n",
      "12 13 14 15 16 17 18      10 11 12 13 14 15 16      14 15 16 17 18 19 20\n",
      "19 20 21 22 23 24 25      17 18 19 20 21 22 23      21 22 23 24 25 26 27\n",
      "26 27 28 29 30            24 25 26 27 28 29 30      28 29 30\n",
      "                          31\n",
      "\n",
      "        July                     August                  September\n",
      "Mo Tu We Th Fr Sa Su      Mo Tu We Th Fr Sa Su      Mo Tu We Th Fr Sa Su\n",
      "          1  2  3  4                         1             1  2  3  4  5\n",
      " 5  6  7  8  9 10 11       2  3  4  5  6  7  8       6  7  8  9 10 11 12\n",
      "12 13 14 15 16 17 18       9 10 11 12 13 14 15      13 14 15 16 17 18 19\n",
      "19 20 21 22 23 24 25      16 17 18 19 20 21 22      20 21 22 23 24 25 26\n",
      "26 27 28 29 30 31         23 24 25 26 27 28 29      27 28 29 30\n",
      "                          30 31\n",
      "\n",
      "      October                   November                  December\n",
      "Mo Tu We Th Fr Sa Su      Mo Tu We Th Fr Sa Su      Mo Tu We Th Fr Sa Su\n",
      "             1  2  3       1  2  3  4  5  6  7             1  2  3  4  5\n",
      " 4  5  6  7  8  9 10       8  9 10 11 12 13 14       6  7  8  9 10 11 12\n",
      "11 12 13 14 15 16 17      15 16 17 18 19 20 21      13 14 15 16 17 18 19\n",
      "18 19 20 21 22 23 24      22 23 24 25 26 27 28      20 21 22 23 24 25 26\n",
      "25 26 27 28 29 30 31      29 30                     27 28 29 30 31\n",
      "\n"
     ]
    }
   ],
   "source": [
    "import calendar\n",
    "print(calendar.calendar(2021))"
   ]
  },
  {
   "cell_type": "code",
   "execution_count": 8,
   "id": "a04b001d",
   "metadata": {},
   "outputs": [
    {
     "name": "stdout",
     "output_type": "stream",
     "text": [
      "     July 2021\n",
      "Mo Tu We Th Fr Sa Su\n",
      "          1  2  3  4\n",
      " 5  6  7  8  9 10 11\n",
      "12 13 14 15 16 17 18\n",
      "19 20 21 22 23 24 25\n",
      "26 27 28 29 30 31\n"
     ]
    }
   ],
   "source": [
    "calendar.prmonth(2021, 7)"
   ]
  },
  {
   "cell_type": "code",
   "execution_count": 10,
   "id": "74ff446d",
   "metadata": {},
   "outputs": [
    {
     "data": {
      "text/plain": [
       "4"
      ]
     },
     "execution_count": 10,
     "metadata": {},
     "output_type": "execute_result"
    }
   ],
   "source": [
    "calendar.weekday(2021,7,2)\n",
    "# 요일 0 = 월요일"
   ]
  },
  {
   "cell_type": "code",
   "execution_count": 11,
   "id": "c68f9ce3",
   "metadata": {},
   "outputs": [
    {
     "data": {
      "text/plain": [
       "(3, 31)"
      ]
     },
     "execution_count": 11,
     "metadata": {},
     "output_type": "execute_result"
    }
   ],
   "source": [
    "calendar.monthrange(2021,7)"
   ]
  },
  {
   "cell_type": "code",
   "execution_count": 14,
   "id": "16acf6d8",
   "metadata": {},
   "outputs": [],
   "source": [
    "# web browser"
   ]
  },
  {
   "cell_type": "code",
   "execution_count": 13,
   "id": "cdf4fe4f",
   "metadata": {},
   "outputs": [
    {
     "data": {
      "text/plain": [
       "True"
      ]
     },
     "execution_count": 13,
     "metadata": {},
     "output_type": "execute_result"
    }
   ],
   "source": [
    "\n",
    "# web browser\n",
    "\n",
    "import webbrowser\n",
    "webbrowser.open(\"https://www.naver.com\")\n"
   ]
  },
  {
   "cell_type": "code",
   "execution_count": null,
   "id": "6ad64fcd",
   "metadata": {},
   "outputs": [],
   "source": [
    "\n"
   ]
  },
  {
   "cell_type": "code",
   "execution_count": null,
   "id": "f977f933",
   "metadata": {},
   "outputs": [],
   "source": []
  },
  {
   "cell_type": "code",
   "execution_count": null,
   "id": "f924574d",
   "metadata": {},
   "outputs": [],
   "source": []
  },
  {
   "cell_type": "code",
   "execution_count": null,
   "id": "d9739db8",
   "metadata": {},
   "outputs": [],
   "source": []
  },
  {
   "cell_type": "code",
   "execution_count": null,
   "id": "0b9808d3",
   "metadata": {},
   "outputs": [],
   "source": []
  },
  {
   "cell_type": "code",
   "execution_count": null,
   "id": "c8df4797",
   "metadata": {},
   "outputs": [],
   "source": []
  },
  {
   "cell_type": "code",
   "execution_count": null,
   "id": "cec16965",
   "metadata": {},
   "outputs": [],
   "source": []
  },
  {
   "cell_type": "code",
   "execution_count": null,
   "id": "12dc686c",
   "metadata": {},
   "outputs": [],
   "source": []
  },
  {
   "cell_type": "code",
   "execution_count": null,
   "id": "1b029b20",
   "metadata": {},
   "outputs": [],
   "source": []
  },
  {
   "cell_type": "code",
   "execution_count": null,
   "id": "6c606ba2",
   "metadata": {},
   "outputs": [],
   "source": []
  },
  {
   "cell_type": "code",
   "execution_count": null,
   "id": "11a37a01",
   "metadata": {},
   "outputs": [],
   "source": []
  },
  {
   "cell_type": "code",
   "execution_count": null,
   "id": "0f636f34",
   "metadata": {},
   "outputs": [],
   "source": []
  }
 ],
 "metadata": {
  "kernelspec": {
   "display_name": "Python 3",
   "language": "python",
   "name": "python3"
  },
  "language_info": {
   "codemirror_mode": {
    "name": "ipython",
    "version": 3
   },
   "file_extension": ".py",
   "mimetype": "text/x-python",
   "name": "python",
   "nbconvert_exporter": "python",
   "pygments_lexer": "ipython3",
   "version": "3.8.8"
  }
 },
 "nbformat": 4,
 "nbformat_minor": 5
}
