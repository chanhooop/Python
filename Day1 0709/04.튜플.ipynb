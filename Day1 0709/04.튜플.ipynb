{
 "cells": [
  {
   "cell_type": "markdown",
   "id": "08f15c44",
   "metadata": {},
   "source": [
    "# 튜플(Tuple) 자료형\n",
    "#### :Tuple은 다음과 같은 점을 제외하고 리스트와 거의 비슷하다.\n",
    "\n",
    "- (,)로 사용\n",
    "- 리스트는 그 값을 생성, 삭제, 수정이 가능하지만 튜플은 값을 바꿀수 없다."
   ]
  },
  {
   "cell_type": "code",
   "execution_count": 3,
   "id": "44c6566f",
   "metadata": {},
   "outputs": [
    {
     "name": "stdout",
     "output_type": "stream",
     "text": [
      "()\n",
      "1\n",
      "(1, 2, 3)\n",
      "(1, 2, 3)\n",
      "('a', 'b', ('ab', 'cd'))\n"
     ]
    }
   ],
   "source": [
    "\n",
    "# 튜플의 선언\n",
    "var01 = ()\n",
    "var02 = (1)\n",
    "var03 = (1,2,3)\n",
    "var04 = 1,2,3\n",
    "var05 = ('a','b',('ab','cd'))\n",
    "print(var01)\n",
    "print(var02)\n",
    "print(var03)\n",
    "print(var04)\n",
    "print(var05)"
   ]
  },
  {
   "cell_type": "code",
   "execution_count": 4,
   "id": "5f3c168a",
   "metadata": {},
   "outputs": [
    {
     "name": "stdout",
     "output_type": "stream",
     "text": [
      "1\n"
     ]
    }
   ],
   "source": [
    "print(var03[0])"
   ]
  },
  {
   "cell_type": "code",
   "execution_count": 5,
   "id": "f782dcfe",
   "metadata": {},
   "outputs": [
    {
     "name": "stdout",
     "output_type": "stream",
     "text": [
      "1\n",
      "2\n"
     ]
    }
   ],
   "source": [
    "\n",
    "a,b = (1,2)\n",
    "print(a)\n",
    "print(b)"
   ]
  }
 ],
 "metadata": {
  "kernelspec": {
   "display_name": "Python 3",
   "language": "python",
   "name": "python3"
  },
  "language_info": {
   "codemirror_mode": {
    "name": "ipython",
    "version": 3
   },
   "file_extension": ".py",
   "mimetype": "text/x-python",
   "name": "python",
   "nbconvert_exporter": "python",
   "pygments_lexer": "ipython3",
   "version": "3.8.8"
  }
 },
 "nbformat": 4,
 "nbformat_minor": 5
}
