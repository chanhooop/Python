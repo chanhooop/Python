{
 "cells": [
  {
   "cell_type": "markdown",
   "id": "dcbe759a",
   "metadata": {},
   "source": [
    "# 리스트(list) 자료형\n",
    "- 숫자나 문자들의 모음을 하나의 자료형으로 표현하기 사용\n",
    "- format : listNmae = [e1,e2...]"
   ]
  },
  {
   "cell_type": "markdown",
   "id": "b2b79007",
   "metadata": {},
   "source": [
    "## 리스트 자료형 선언"
   ]
  },
  {
   "cell_type": "code",
   "execution_count": 3,
   "id": "671120d2",
   "metadata": {},
   "outputs": [],
   "source": [
    "var01 = []\n",
    "var02 = [1,2,3]\n",
    "var03 = ['I',\"have\",'a', 'dream']\n",
    "var04 = [1,2,'dream', 'True']\n",
    "var05 = [1,2, ['Dream', \"true\"]]"
   ]
  },
  {
   "cell_type": "markdown",
   "id": "0a3a6c26",
   "metadata": {},
   "source": [
    "## 리스트의 indexing과 Slicing"
   ]
  },
  {
   "cell_type": "code",
   "execution_count": 5,
   "id": "d3307d2a",
   "metadata": {},
   "outputs": [
    {
     "name": "stdout",
     "output_type": "stream",
     "text": [
      "[]\n",
      "[1, 2, 3]\n",
      "['I', 'have', 'a', 'dream']\n",
      "[1, 2, 'dream', 'True']\n",
      "[1, 2, ['Dream', 'true']]\n",
      "['Dream', 'true']\n",
      "Dream\n"
     ]
    }
   ],
   "source": [
    "\n",
    "print(var01)\n",
    "print(var02)\n",
    "print(var03)\n",
    "print(var04)\n",
    "print(var05)\n",
    "\n",
    "print(var05[2])\n",
    "print(var05[2][0])"
   ]
  },
  {
   "cell_type": "code",
   "execution_count": 6,
   "id": "90aa9314",
   "metadata": {},
   "outputs": [
    {
     "data": {
      "text/plain": [
       "3"
      ]
     },
     "execution_count": 6,
     "metadata": {},
     "output_type": "execute_result"
    }
   ],
   "source": [
    "#리스트의 계산\n",
    "var02[0] + var02[1]"
   ]
  },
  {
   "cell_type": "code",
   "execution_count": 7,
   "id": "f8078329",
   "metadata": {},
   "outputs": [
    {
     "name": "stdout",
     "output_type": "stream",
     "text": [
      "Dream\n"
     ]
    }
   ],
   "source": [
    "# 3중 리스트에서 indexing\n",
    "var = [1,2,['a','b',['Dream',\"True\"]]]\n",
    "print(var[-1][-1][0])"
   ]
  },
  {
   "cell_type": "code",
   "execution_count": 8,
   "id": "869cc91f",
   "metadata": {},
   "outputs": [
    {
     "name": "stdout",
     "output_type": "stream",
     "text": [
      "[['a', 'b', ['Dream', 'True']]]\n"
     ]
    }
   ],
   "source": [
    "print(var[2:])"
   ]
  },
  {
   "cell_type": "markdown",
   "id": "cf729367",
   "metadata": {},
   "source": [
    "## 리스트 연산"
   ]
  },
  {
   "cell_type": "code",
   "execution_count": 10,
   "id": "19479176",
   "metadata": {},
   "outputs": [
    {
     "data": {
      "text/plain": [
       "[1, 2, 3, 4, 5, 6]"
      ]
     },
     "execution_count": 10,
     "metadata": {},
     "output_type": "execute_result"
    }
   ],
   "source": [
    "#리스트의 숫자 합치기 덧셈 아님!\n",
    "var01 = [1,2,3]\n",
    "var02 = [4,5,6]\n",
    "var01 + var02"
   ]
  },
  {
   "cell_type": "code",
   "execution_count": 11,
   "id": "ab25a285",
   "metadata": {},
   "outputs": [
    {
     "name": "stdout",
     "output_type": "stream",
     "text": [
      "6\n",
      "5\n",
      "7\n",
      "9\n"
     ]
    }
   ],
   "source": [
    "#리스트의 덧셈\n",
    "t = 0\n",
    "\n",
    "for i in range(0,3):\n",
    "    t += var01[i]\n",
    "    \n",
    "print(t)\n",
    "\n",
    "for i in range(0, 3):\n",
    "    print(var01[i] + var02[i])"
   ]
  },
  {
   "cell_type": "code",
   "execution_count": 12,
   "id": "298ef2f4",
   "metadata": {},
   "outputs": [
    {
     "data": {
      "text/plain": [
       "[1, 2, 3, 1, 2, 3, 1, 2, 3]"
      ]
     },
     "execution_count": 12,
     "metadata": {},
     "output_type": "execute_result"
    }
   ],
   "source": [
    "#리스트의 숫자 반복\n",
    "var01 * 3"
   ]
  },
  {
   "cell_type": "code",
   "execution_count": 14,
   "id": "770a4142",
   "metadata": {},
   "outputs": [
    {
     "name": "stdout",
     "output_type": "stream",
     "text": [
      "10\n",
      "20\n",
      "30\n"
     ]
    }
   ],
   "source": [
    "\n",
    "#리스트의 곱셈\n",
    "#var01의 data를 10배 계산하여 출력하기\n",
    "#10\n",
    "#20\n",
    "#30\n",
    "\n",
    "for i in var01 :\n",
    "    print(i*10)"
   ]
  },
  {
   "cell_type": "code",
   "execution_count": 15,
   "id": "ac3cdef4",
   "metadata": {},
   "outputs": [
    {
     "name": "stdout",
     "output_type": "stream",
     "text": [
      "3hi!\n"
     ]
    }
   ],
   "source": [
    "#리스트의 타입 변환\n",
    "var = [1,2,3]\n",
    "print(str(var[2])+ \"hi!\")"
   ]
  },
  {
   "cell_type": "markdown",
   "id": "b3079a8a",
   "metadata": {},
   "source": [
    "## 리스트의 수정과 삭제"
   ]
  },
  {
   "cell_type": "code",
   "execution_count": 17,
   "id": "720d8668",
   "metadata": {},
   "outputs": [
    {
     "data": {
      "text/plain": [
       "[1, 2, 4]"
      ]
     },
     "execution_count": 17,
     "metadata": {},
     "output_type": "execute_result"
    }
   ],
   "source": [
    "var = [1,2,3]\n",
    "var[2] = 4\n",
    "var"
   ]
  },
  {
   "cell_type": "code",
   "execution_count": 18,
   "id": "31e45dcd",
   "metadata": {},
   "outputs": [
    {
     "data": {
      "text/plain": [
       "[1, 'a', 'b', 'c', 4]"
      ]
     },
     "execution_count": 18,
     "metadata": {},
     "output_type": "execute_result"
    }
   ],
   "source": [
    "var[1:2] = ['a','b','c']\n",
    "var"
   ]
  },
  {
   "cell_type": "code",
   "execution_count": 19,
   "id": "7785209b",
   "metadata": {},
   "outputs": [
    {
     "data": {
      "text/plain": [
       "[1, 'c', 4]"
      ]
     },
     "execution_count": 19,
     "metadata": {},
     "output_type": "execute_result"
    }
   ],
   "source": [
    "\n",
    "#1~2번지의 데이터를 지우기\n",
    "var[1:3] = []\n",
    "var"
   ]
  },
  {
   "cell_type": "code",
   "execution_count": null,
   "id": "33f5670b",
   "metadata": {},
   "outputs": [],
   "source": [
    "del var[1:3]\n",
    "var"
   ]
  },
  {
   "cell_type": "code",
   "execution_count": 20,
   "id": "27bec758",
   "metadata": {},
   "outputs": [
    {
     "data": {
      "text/plain": [
       "[1, 2, 3, 4]"
      ]
     },
     "execution_count": 20,
     "metadata": {},
     "output_type": "execute_result"
    }
   ],
   "source": [
    "# 리스트에 요소추가\n",
    "var = [1,2,3]\n",
    "var.append(4)\n",
    "var"
   ]
  },
  {
   "cell_type": "code",
   "execution_count": 22,
   "id": "9493be80",
   "metadata": {},
   "outputs": [
    {
     "data": {
      "text/plain": [
       "[1, 2, 3, 4, [5, 6], [5, 6]]"
      ]
     },
     "execution_count": 22,
     "metadata": {},
     "output_type": "execute_result"
    }
   ],
   "source": [
    "\n",
    "var.append([5,6])\n",
    "var"
   ]
  },
  {
   "cell_type": "code",
   "execution_count": 24,
   "id": "9675526e",
   "metadata": {},
   "outputs": [
    {
     "name": "stdout",
     "output_type": "stream",
     "text": [
      "[1, 4, 3, 2]\n",
      "[1, 2, 3, 4]\n",
      "[4, 3, 2, 1]\n",
      "4\n",
      "1\n"
     ]
    }
   ],
   "source": [
    "\n",
    "# 리스트의 정렬\n",
    "var = [1,4,3,2]\n",
    "print(var)\n",
    "\n",
    "#오름차순\n",
    "var.sort()\n",
    "print(var)\n",
    "\n",
    "var.reverse()\n",
    "print(var)\n",
    "\n",
    "print(max(var))\n",
    "print(min(var))"
   ]
  },
  {
   "cell_type": "code",
   "execution_count": 25,
   "id": "2620b516",
   "metadata": {},
   "outputs": [
    {
     "name": "stdout",
     "output_type": "stream",
     "text": [
      "['국', '대', '민', '한']\n",
      "['한', '민', '대', '국']\n"
     ]
    }
   ],
   "source": [
    "# 리스트 문자정렬 : 한글\n",
    "var = ['대','한','민','국']\n",
    "\n",
    "#오름차순\n",
    "#오름차순\n",
    "var.sort()\n",
    "print(var)\n",
    "\n",
    "#내림차순\n",
    "var.reverse()\n",
    "print(var)"
   ]
  },
  {
   "cell_type": "code",
   "execution_count": 26,
   "id": "259390c8",
   "metadata": {},
   "outputs": [
    {
     "data": {
      "text/plain": [
       "1"
      ]
     },
     "execution_count": 26,
     "metadata": {},
     "output_type": "execute_result"
    }
   ],
   "source": [
    "# 리스트의 위치 정보\n",
    "var = [4,5,6]\n",
    "var.index(5)"
   ]
  },
  {
   "cell_type": "code",
   "execution_count": 27,
   "id": "4641b1bc",
   "metadata": {},
   "outputs": [
    {
     "data": {
      "text/plain": [
       "[4, 1, 2, 3]"
      ]
     },
     "execution_count": 27,
     "metadata": {},
     "output_type": "execute_result"
    }
   ],
   "source": [
    "# 리스트의 요소 삽입\n",
    "var = [1,2,3]\n",
    "var.insert(0,4)\n",
    "var"
   ]
  },
  {
   "cell_type": "code",
   "execution_count": 28,
   "id": "d5b2d8ea",
   "metadata": {},
   "outputs": [
    {
     "data": {
      "text/plain": [
       "[1, 2, 3, 5, 6]"
      ]
     },
     "execution_count": 28,
     "metadata": {},
     "output_type": "execute_result"
    }
   ],
   "source": [
    "\n",
    "# 리스트의 요소제거\n",
    "var = [1,2,3,4,5,6]\n",
    "\n",
    "# 데이터(요소)가 4인것 제거\n",
    "var.remove(4)\n",
    "var"
   ]
  },
  {
   "cell_type": "code",
   "execution_count": 29,
   "id": "bcdc28a4",
   "metadata": {},
   "outputs": [
    {
     "name": "stdout",
     "output_type": "stream",
     "text": [
      "3\n",
      "[1, 2]\n"
     ]
    }
   ],
   "source": [
    "# 리스트 요소 끄집어 내기 /맨뒤에꺼를 꺼냄.\n",
    "\n",
    "var = [1,2,3]\n",
    "print(var.pop())\n",
    "print(var)"
   ]
  },
  {
   "cell_type": "code",
   "execution_count": 30,
   "id": "cd898d47",
   "metadata": {},
   "outputs": [
    {
     "name": "stdout",
     "output_type": "stream",
     "text": [
      "3\n",
      "2\n",
      "1\n",
      "[]\n"
     ]
    }
   ],
   "source": [
    "# for문을 사용한 pop\n",
    "var = [1,2,3]\n",
    "\n",
    "for i in range(0, 3):\n",
    "    print(var.pop())\n",
    "    \n",
    "print(var)"
   ]
  },
  {
   "cell_type": "code",
   "execution_count": 35,
   "id": "12a2a911",
   "metadata": {},
   "outputs": [
    {
     "data": {
      "text/plain": [
       "[1, 2, 3, 4, 5, 6]"
      ]
     },
     "execution_count": 35,
     "metadata": {},
     "output_type": "execute_result"
    }
   ],
   "source": [
    "# 리스트의 확장\n",
    "var = [1,2,3,4]\n",
    "var1 = [5,6]\n",
    "var + var1\n",
    "var.extend(var1)\n",
    "var"
   ]
  },
  {
   "cell_type": "code",
   "execution_count": null,
   "id": "b67db709",
   "metadata": {},
   "outputs": [],
   "source": []
  },
  {
   "cell_type": "code",
   "execution_count": null,
   "id": "95eb0949",
   "metadata": {},
   "outputs": [],
   "source": []
  },
  {
   "cell_type": "code",
   "execution_count": null,
   "id": "23d43581",
   "metadata": {},
   "outputs": [],
   "source": []
  },
  {
   "cell_type": "code",
   "execution_count": null,
   "id": "43455b36",
   "metadata": {},
   "outputs": [],
   "source": []
  },
  {
   "cell_type": "code",
   "execution_count": null,
   "id": "f5cd6a6d",
   "metadata": {},
   "outputs": [],
   "source": []
  },
  {
   "cell_type": "code",
   "execution_count": null,
   "id": "c1aeb198",
   "metadata": {},
   "outputs": [],
   "source": []
  },
  {
   "cell_type": "code",
   "execution_count": null,
   "id": "a7d3f622",
   "metadata": {},
   "outputs": [],
   "source": []
  },
  {
   "cell_type": "code",
   "execution_count": null,
   "id": "6690500e",
   "metadata": {},
   "outputs": [],
   "source": []
  },
  {
   "cell_type": "code",
   "execution_count": null,
   "id": "9cbffce9",
   "metadata": {},
   "outputs": [],
   "source": []
  },
  {
   "cell_type": "code",
   "execution_count": null,
   "id": "8ef16c35",
   "metadata": {},
   "outputs": [],
   "source": []
  }
 ],
 "metadata": {
  "kernelspec": {
   "display_name": "Python 3",
   "language": "python",
   "name": "python3"
  },
  "language_info": {
   "codemirror_mode": {
    "name": "ipython",
    "version": 3
   },
   "file_extension": ".py",
   "mimetype": "text/x-python",
   "name": "python",
   "nbconvert_exporter": "python",
   "pygments_lexer": "ipython3",
   "version": "3.8.8"
  }
 },
 "nbformat": 4,
 "nbformat_minor": 5
}
