{
 "cells": [
  {
   "cell_type": "markdown",
   "id": "68307048",
   "metadata": {},
   "source": [
    "## range 함수\n",
    "range(시작숫자, 끝숫자, 증가값)"
   ]
  },
  {
   "cell_type": "code",
   "execution_count": 3,
   "id": "2d57f8f0",
   "metadata": {},
   "outputs": [
    {
     "data": {
      "text/plain": [
       "range(1, 11)"
      ]
     },
     "execution_count": 3,
     "metadata": {},
     "output_type": "execute_result"
    }
   ],
   "source": [
    "var=range(1,11)\n",
    "var"
   ]
  },
  {
   "cell_type": "code",
   "execution_count": 4,
   "id": "908c1a31",
   "metadata": {},
   "outputs": [
    {
     "data": {
      "text/plain": [
       "[1, 2, 3, 4, 5, 6, 7, 8, 9, 10]"
      ]
     },
     "execution_count": 4,
     "metadata": {},
     "output_type": "execute_result"
    }
   ],
   "source": [
    "# range의 범위를 list로 출력\n",
    "\n",
    "list(range(1,11))\n",
    "\n",
    "#출력시 list로 감싸주기"
   ]
  },
  {
   "cell_type": "code",
   "execution_count": 6,
   "id": "204fb029",
   "metadata": {},
   "outputs": [
    {
     "data": {
      "text/plain": [
       "[0, 2, 4, 6, 8, 10]"
      ]
     },
     "execution_count": 6,
     "metadata": {},
     "output_type": "execute_result"
    }
   ],
   "source": [
    "list(range(0,11,2))"
   ]
  },
  {
   "cell_type": "code",
   "execution_count": 8,
   "id": "cdb917d0",
   "metadata": {},
   "outputs": [
    {
     "data": {
      "text/plain": [
       "[10, 8, 6, 4, 2]"
      ]
     },
     "execution_count": 8,
     "metadata": {},
     "output_type": "execute_result"
    }
   ],
   "source": [
    "list(range(10,0,-2))"
   ]
  },
  {
   "cell_type": "code",
   "execution_count": 11,
   "id": "418ef194",
   "metadata": {},
   "outputs": [
    {
     "data": {
      "text/plain": [
       "[]"
      ]
     },
     "execution_count": 11,
     "metadata": {},
     "output_type": "execute_result"
    }
   ],
   "source": [
    "# error가 안난다 잘 확인해야한다\n",
    "list(range(0,10,-2))"
   ]
  },
  {
   "cell_type": "code",
   "execution_count": 12,
   "id": "807272ed",
   "metadata": {},
   "outputs": [
    {
     "data": {
      "text/plain": [
       "10"
      ]
     },
     "execution_count": 12,
     "metadata": {},
     "output_type": "execute_result"
    }
   ],
   "source": [
    "var[9]"
   ]
  },
  {
   "cell_type": "code",
   "execution_count": 14,
   "id": "01b9a110",
   "metadata": {},
   "outputs": [
    {
     "data": {
      "text/plain": [
       "range"
      ]
     },
     "execution_count": 14,
     "metadata": {},
     "output_type": "execute_result"
    }
   ],
   "source": [
    "type(var)"
   ]
  },
  {
   "cell_type": "markdown",
   "id": "1bf9db4e",
   "metadata": {},
   "source": [
    "## for문에 range함수 사용하기"
   ]
  },
  {
   "cell_type": "code",
   "execution_count": 16,
   "id": "1fc7d974",
   "metadata": {},
   "outputs": [
    {
     "name": "stdout",
     "output_type": "stream",
     "text": [
      "1\n",
      "2\n",
      "3\n",
      "4\n",
      "5\n",
      "6\n",
      "7\n",
      "8\n",
      "9\n",
      "10\n"
     ]
    }
   ],
   "source": [
    "for i in range(1,11):\n",
    "    print(i)"
   ]
  },
  {
   "cell_type": "code",
   "execution_count": 17,
   "id": "5e029168",
   "metadata": {},
   "outputs": [
    {
     "name": "stdout",
     "output_type": "stream",
     "text": [
      "0\n",
      "1\n",
      "2\n",
      "3\n",
      "4\n"
     ]
    }
   ],
   "source": [
    "for i in range(5):\n",
    "    print(i)"
   ]
  },
  {
   "cell_type": "code",
   "execution_count": 18,
   "id": "49bd93e4",
   "metadata": {},
   "outputs": [
    {
     "name": "stdout",
     "output_type": "stream",
     "text": [
      "1\n",
      "3\n",
      "5\n",
      "7\n",
      "9\n"
     ]
    }
   ],
   "source": [
    "# 1부터 10까지의 수중 홀수 안 출력하기\n",
    "\n",
    "for i in range(1,11,2):\n",
    "    print(i)\n",
    "\n",
    "# 데이터를 홀수로만 주고 출력하면 된다"
   ]
  },
  {
   "cell_type": "code",
   "execution_count": 26,
   "id": "7fe166a0",
   "metadata": {},
   "outputs": [
    {
     "name": "stdout",
     "output_type": "stream",
     "text": [
      "9 x 1 = 9\n",
      "9 x 1 =  9\n",
      "9 x 2 = 18\n",
      "9 x 2 = 18\n",
      "9 x 3 = 27\n",
      "9 x 3 = 27\n",
      "9 x 4 = 36\n",
      "9 x 4 = 36\n",
      "9 x 5 = 45\n",
      "9 x 5 = 45\n",
      "9 x 6 = 54\n",
      "9 x 6 = 54\n",
      "9 x 7 = 63\n",
      "9 x 7 = 63\n",
      "9 x 8 = 72\n",
      "9 x 8 = 72\n",
      "9 x 9 = 81\n",
      "9 x 9 = 81\n"
     ]
    }
   ],
   "source": [
    "# 구구단 9단 출력\n",
    "j=9\n",
    "\n",
    "for i in range(1,10):\n",
    "    print(j,'x',i,'=',(i*j))\n",
    "    print(j,'x',i,'=','%2d'%(i*j)) # 자릿수 맞추기"
   ]
  },
  {
   "cell_type": "code",
   "execution_count": 29,
   "id": "f0a826f3",
   "metadata": {},
   "outputs": [
    {
     "name": "stdout",
     "output_type": "stream",
     "text": [
      "aaa bbb\n"
     ]
    }
   ],
   "source": [
    "# 프린트 문장을 옆으로 출력 하려면 끝에 ,end = ''\n",
    "print('aaa', end = ' ')\n",
    "print('bbb')"
   ]
  },
  {
   "cell_type": "code",
   "execution_count": 36,
   "id": "bfc42dba",
   "metadata": {},
   "outputs": [
    {
     "name": "stdout",
     "output_type": "stream",
     "text": [
      "2 4 6 8 10 12 14 16 18\n",
      "3 6 9 12 15 18 21 24 27\n",
      "4 8 12 16 20 24 28 32 36\n",
      "5 10 15 20 25 30 35 40 45\n",
      "6 12 18 24 30 36 42 48 54\n",
      "7 14 21 28 35 42 49 56 63\n",
      "8 16 24 32 40 48 56 64 72\n",
      "9 18 27 36 45 54 63 72 81\n"
     ]
    }
   ],
   "source": [
    " for j in range(2,10):\n",
    "    for i in range(1,10):\n",
    "        if(i!=9):\n",
    "            print(i*j, end = ' ')\n",
    "        else: print(i*j)"
   ]
  },
  {
   "cell_type": "code",
   "execution_count": null,
   "id": "b007e693",
   "metadata": {},
   "outputs": [],
   "source": []
  },
  {
   "cell_type": "code",
   "execution_count": null,
   "id": "e51e532a",
   "metadata": {},
   "outputs": [],
   "source": []
  },
  {
   "cell_type": "code",
   "execution_count": null,
   "id": "897c254e",
   "metadata": {},
   "outputs": [],
   "source": []
  },
  {
   "cell_type": "code",
   "execution_count": null,
   "id": "3a02bb91",
   "metadata": {},
   "outputs": [],
   "source": []
  },
  {
   "cell_type": "code",
   "execution_count": null,
   "id": "cb8df932",
   "metadata": {},
   "outputs": [],
   "source": []
  },
  {
   "cell_type": "code",
   "execution_count": null,
   "id": "272a9935",
   "metadata": {},
   "outputs": [],
   "source": []
  }
 ],
 "metadata": {
  "kernelspec": {
   "display_name": "Python 3",
   "language": "python",
   "name": "python3"
  },
  "language_info": {
   "codemirror_mode": {
    "name": "ipython",
    "version": 3
   },
   "file_extension": ".py",
   "mimetype": "text/x-python",
   "name": "python",
   "nbconvert_exporter": "python",
   "pygments_lexer": "ipython3",
   "version": "3.8.8"
  }
 },
 "nbformat": 4,
 "nbformat_minor": 5
}
