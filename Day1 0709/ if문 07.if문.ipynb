{
 "cells": [
  {
   "cell_type": "code",
   "execution_count": 2,
   "id": "d1d2551e",
   "metadata": {},
   "outputs": [],
   "source": [
    "from random import randint"
   ]
  },
  {
   "cell_type": "code",
   "execution_count": 13,
   "id": "9341dd8d",
   "metadata": {},
   "outputs": [
    {
     "name": "stdout",
     "output_type": "stream",
     "text": [
      "89 is greater than 50\n",
      "---end---\n"
     ]
    }
   ],
   "source": [
    "# if\n",
    "x = randint(1,100)\n",
    "\n",
    "if x > 50 :\n",
    "    print(str(x), 'is greater than 50')\n",
    "    \n",
    "    print('---end---')"
   ]
  },
  {
   "cell_type": "code",
   "execution_count": 19,
   "id": "2e59dffc",
   "metadata": {},
   "outputs": [
    {
     "name": "stdout",
     "output_type": "stream",
     "text": [
      "92 is greater than 50\n"
     ]
    }
   ],
   "source": [
    "# if else\n",
    "x = randint(1,100)\n",
    "\n",
    "if x > 50 :\n",
    "    print(str(x), 'is greater than 50')\n",
    "else :\n",
    "    print (str(x), 'is less or equal to 50')\n",
    "    \n",
    "    print('---end---')"
   ]
  },
  {
   "cell_type": "code",
   "execution_count": 20,
   "id": "10bbf9ce",
   "metadata": {},
   "outputs": [
    {
     "name": "stdout",
     "output_type": "stream",
     "text": [
      "57 is greater than 50\n"
     ]
    }
   ],
   "source": [
    "# if else\n",
    "x = randint(1,100)\n",
    "\n",
    "if x > 50 :\n",
    "    print(str(x), 'is greater than 50')\n",
    "elif x == 50:\n",
    "    print(print(str(x), 'is equal to 50'))\n",
    "else :\n",
    "    print (str(x), 'is less  to 50')\n",
    "    "
   ]
  },
  {
   "cell_type": "code",
   "execution_count": 21,
   "id": "b2fab1bd",
   "metadata": {},
   "outputs": [
    {
     "name": "stdout",
     "output_type": "stream",
     "text": [
      "숫자를 입력하세요12\n"
     ]
    },
    {
     "data": {
      "text/plain": [
       "'12'"
      ]
     },
     "execution_count": 21,
     "metadata": {},
     "output_type": "execute_result"
    }
   ],
   "source": [
    "#그냥 input 은 문자형\n",
    "\n",
    "input('숫자를 입력하세요')"
   ]
  },
  {
   "cell_type": "code",
   "execution_count": 23,
   "id": "12cb1bdc",
   "metadata": {},
   "outputs": [
    {
     "name": "stdout",
     "output_type": "stream",
     "text": [
      "숫자를 입력하세요34\n",
      "34 짝수 입니다.\n"
     ]
    }
   ],
   "source": [
    "# 사용자로 부터 숫자를 입력 받아 홀짝수 구분\n",
    "#예 : 23은 호수 입니다.\n",
    "\n",
    "x = int(input('숫자를 입력하세요'))\n",
    "\n",
    "if x % 2 > 0:\n",
    "    print (str(x), '는 홀수 입니다.')\n",
    "else :\n",
    "    print(str(x), '는 짝수 입니다.')\n"
   ]
  },
  {
   "cell_type": "code",
   "execution_count": null,
   "id": "9b8a2150",
   "metadata": {},
   "outputs": [],
   "source": []
  }
 ],
 "metadata": {
  "kernelspec": {
   "display_name": "Python 3",
   "language": "python",
   "name": "python3"
  },
  "language_info": {
   "codemirror_mode": {
    "name": "ipython",
    "version": 3
   },
   "file_extension": ".py",
   "mimetype": "text/x-python",
   "name": "python",
   "nbconvert_exporter": "python",
   "pygments_lexer": "ipython3",
   "version": "3.8.8"
  }
 },
 "nbformat": 4,
 "nbformat_minor": 5
}
