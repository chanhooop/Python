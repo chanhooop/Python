{
 "cells": [
  {
   "cell_type": "code",
   "execution_count": 5,
   "id": "a0ccf245",
   "metadata": {},
   "outputs": [
    {
     "ename": "TypeError",
     "evalue": "not all arguments converted during string formatting",
     "output_type": "error",
     "traceback": [
      "\u001b[1;31m---------------------------------------------------------------------------\u001b[0m",
      "\u001b[1;31mTypeError\u001b[0m                                 Traceback (most recent call last)",
      "\u001b[1;32m<ipython-input-5-2dc04b7ca255>\u001b[0m in \u001b[0;36m<module>\u001b[1;34m\u001b[0m\n\u001b[0;32m      4\u001b[0m \u001b[1;32mwhile\u001b[0m \u001b[0mtreeHit\u001b[0m \u001b[1;33m<\u001b[0m \u001b[1;36m10\u001b[0m\u001b[1;33m:\u001b[0m\u001b[1;33m\u001b[0m\u001b[1;33m\u001b[0m\u001b[0m\n\u001b[0;32m      5\u001b[0m     \u001b[0mtreeHit\u001b[0m \u001b[1;33m+=\u001b[0m \u001b[1;36m1\u001b[0m\u001b[1;33m\u001b[0m\u001b[1;33m\u001b[0m\u001b[0m\n\u001b[1;32m----> 6\u001b[1;33m     \u001b[0mprint\u001b[0m\u001b[1;33m(\u001b[0m\u001b[1;34m\"나무를 #d번 찍었습니다.\"\u001b[0m \u001b[1;33m%\u001b[0m\u001b[0mtreeHit\u001b[0m\u001b[1;33m)\u001b[0m\u001b[1;33m\u001b[0m\u001b[1;33m\u001b[0m\u001b[0m\n\u001b[0m\u001b[0;32m      7\u001b[0m     \u001b[1;32mif\u001b[0m\u001b[1;33m(\u001b[0m\u001b[0mtreeHit\u001b[0m \u001b[1;33m==\u001b[0m \u001b[1;36m10\u001b[0m\u001b[1;33m)\u001b[0m\u001b[1;33m:\u001b[0m\u001b[1;33m\u001b[0m\u001b[1;33m\u001b[0m\u001b[0m\n\u001b[0;32m      8\u001b[0m           \u001b[0mprint\u001b[0m\u001b[1;33m(\u001b[0m\u001b[1;34m\"나무 넘어 갑니다.\"\u001b[0m\u001b[1;33m)\u001b[0m\u001b[1;33m\u001b[0m\u001b[1;33m\u001b[0m\u001b[0m\n",
      "\u001b[1;31mTypeError\u001b[0m: not all arguments converted during string formatting"
     ]
    }
   ],
   "source": [
    "# 비교 할때는 데이터 값을 정해놓고 시작해야한다\n",
    "treeHit = 0\n",
    "\n",
    "while treeHit < 10:\n",
    "    treeHit += 1\n",
    "    print(\"나무를 #d번 찍었습니다.\" %treeHit)\n",
    "    if(treeHit == 10):\n",
    "          print(\"나무 넘어 갑니다.\")\n",
    "          "
   ]
  },
  {
   "cell_type": "code",
   "execution_count": 6,
   "id": "d5c3663a",
   "metadata": {},
   "outputs": [],
   "source": [
    "prompt = \"\"\"\n",
    "    1.덧셈\n",
    "    2.뺄셈\n",
    "    3.곱셈.\n",
    "    4.나눗셈\n",
    "    5.종료\n",
    "    \n",
    "    숫잘를 입력하세요!\n",
    "\"\"\""
   ]
  },
  {
   "cell_type": "code",
   "execution_count": null,
   "id": "de045e56",
   "metadata": {},
   "outputs": [],
   "source": [
    "number = 0\n",
    "while number != 5:\n",
    "    print(prompt)\n",
    "    number = int(input())"
   ]
  },
  {
   "cell_type": "code",
   "execution_count": 8,
   "id": "f2deebb6",
   "metadata": {},
   "outputs": [
    {
     "name": "stdout",
     "output_type": "stream",
     "text": [
      "0\n",
      "1\n",
      "2\n",
      "3\n",
      "4\n"
     ]
    }
   ],
   "source": [
    "# break문을 사용하여 var가 5인경우 while문 빠져 나가기\n",
    "\n",
    "var = 0\n",
    "while var < 10:\n",
    "    print(var)\n",
    "    var += 1\n",
    "    if var == 5:\n",
    "        break"
   ]
  },
  {
   "cell_type": "code",
   "execution_count": 9,
   "id": "fc77b320",
   "metadata": {},
   "outputs": [
    {
     "name": "stdout",
     "output_type": "stream",
     "text": [
      "1\n",
      "2\n",
      "3\n",
      "4\n",
      "6\n",
      "7\n",
      "8\n",
      "9\n",
      "10\n"
     ]
    }
   ],
   "source": [
    "# continue : 10보다 작은 수중 5인 경우에만 출력 안하고 나머지 숫자는 출력하기\n",
    "\n",
    "var = 0\n",
    "while var < 10:\n",
    "    var += 1\n",
    "    if var == 5:\n",
    "        continue\n",
    "    print(var)"
   ]
  },
  {
   "cell_type": "code",
   "execution_count": 10,
   "id": "12571a08",
   "metadata": {},
   "outputs": [
    {
     "name": "stdout",
     "output_type": "stream",
     "text": [
      "1\n",
      "3\n",
      "5\n",
      "7\n",
      "9\n"
     ]
    }
   ],
   "source": [
    "# conttinue문을 사용하여 1~10의 숫자중 홀수만 출력하기\n",
    "\n",
    "var = 0\n",
    "while var <10:\n",
    "    var += 1\n",
    "    if var%2 == 0:\n",
    "        continue\n",
    "    print(var)"
   ]
  },
  {
   "cell_type": "code",
   "execution_count": 14,
   "id": "256d0d49",
   "metadata": {},
   "outputs": [
    {
     "name": "stdout",
     "output_type": "stream",
     "text": [
      "노력\n",
      "0\n",
      "우수\n",
      "1\n",
      "우수\n",
      "2\n",
      "노력\n",
      "3\n"
     ]
    }
   ],
   "source": [
    "# 점수가 80점 이상이면 우수, 나머지는 노력으로 출력\n",
    "\n",
    "scores = [78, 85, 95, 65]\n",
    "var = 0\n",
    "while var < len(scores):\n",
    "    if scores[var] >= 80:\n",
    "        print(\"우수\")\n",
    "    else:\n",
    "        print(\"노력\")\n",
    "    print(var)\n",
    "    var += 1"
   ]
  },
  {
   "cell_type": "code",
   "execution_count": 18,
   "id": "4eca7b0d",
   "metadata": {},
   "outputs": [
    {
     "name": "stdout",
     "output_type": "stream",
     "text": [
      "노력\n",
      "우수\n",
      "우수\n",
      "노력\n"
     ]
    }
   ],
   "source": [
    "# 점수가 80점 이상이면 우수, 나머지는 노력으로 출력\n",
    "\n",
    "scores = [78, 85, 95, 65]\n",
    "var = 0\n",
    "\n",
    "while scores:\n",
    "#    print(scores.pop(var))\n",
    "    score = scores.pop(var)\n",
    "    if score >= 80:\n",
    "        print(\"우수\")\n",
    "    else:\n",
    "        print(\"노력\")\n",
    "\n",
    "#print(scores)"
   ]
  },
  {
   "cell_type": "code",
   "execution_count": 19,
   "id": "5c0f6ed2",
   "metadata": {},
   "outputs": [
    {
     "name": "stdout",
     "output_type": "stream",
     "text": [
      "80.75\n"
     ]
    }
   ],
   "source": [
    "# 일반 평균 구하기\n",
    "scores = [78, 85, 95, 65]\n",
    "\n",
    "list_length = len(scores)\n",
    "tortal = 0\n",
    "\n",
    "while scores:\n",
    "    tortal += scores.pop()\n",
    "    \n",
    "print(tortal / list_length)"
   ]
  },
  {
   "cell_type": "code",
   "execution_count": 22,
   "id": "a1d5f827",
   "metadata": {},
   "outputs": [],
   "source": [
    "import numpy as np"
   ]
  },
  {
   "cell_type": "code",
   "execution_count": 23,
   "id": "f164b381",
   "metadata": {},
   "outputs": [
    {
     "data": {
      "text/plain": [
       "80.75"
      ]
     },
     "execution_count": 23,
     "metadata": {},
     "output_type": "execute_result"
    }
   ],
   "source": [
    "# 파이썬식 평균 구하기\n",
    "scores = [78, 85, 95, 65]\n",
    "\n",
    "np.mean(scores)"
   ]
  },
  {
   "cell_type": "code",
   "execution_count": null,
   "id": "e7e2ca8b",
   "metadata": {},
   "outputs": [],
   "source": [
    "# 표준편차 구하기 : 평균과 각 data의 차이의 제곱한 것의 합의 제곱근을 구한것의 평균\n"
   ]
  },
  {
   "cell_type": "code",
   "execution_count": 26,
   "id": "20d317eb",
   "metadata": {},
   "outputs": [
    {
     "name": "stdout",
     "output_type": "stream",
     "text": [
      "80.75\n",
      "119.1875\n"
     ]
    }
   ],
   "source": [
    "scores = [78, 85, 95, 65]\n",
    "\n",
    "# 평균 구하기\n",
    "total = 0\n",
    "var = 0\n",
    "\n",
    "while var < len(scores):\n",
    "    total += scores[var]\n",
    "    var += 1\n",
    "    \n",
    "avg = total / len(scores)\n",
    "print(avg)\n",
    "\n",
    "# 각 데이터와 평균의 차이의 제곱의 합의 평균 구하기\n",
    "\n",
    "total = 0\n",
    "var = 0\n",
    "\n",
    "while var < len(scores):\n",
    "    total += (scores[var] - avg) ** 2\n",
    "    var += 1\n",
    "\n",
    "avg = total / len(scores)\n",
    "print(avg)\n",
    "\n",
    "# 위의 계산값에 제곱근을 구하기\n",
    "import math\n"
   ]
  },
  {
   "cell_type": "code",
   "execution_count": 27,
   "id": "35ad0a74",
   "metadata": {},
   "outputs": [
    {
     "data": {
      "text/plain": [
       "10.917302780449024"
      ]
     },
     "execution_count": 27,
     "metadata": {},
     "output_type": "execute_result"
    }
   ],
   "source": [
    "scores = [78, 85, 95, 65]\n",
    "np.std(scores)"
   ]
  },
  {
   "cell_type": "code",
   "execution_count": null,
   "id": "2105bcb7",
   "metadata": {},
   "outputs": [],
   "source": []
  },
  {
   "cell_type": "code",
   "execution_count": null,
   "id": "78f2fa3f",
   "metadata": {},
   "outputs": [],
   "source": []
  },
  {
   "cell_type": "code",
   "execution_count": null,
   "id": "7498756b",
   "metadata": {},
   "outputs": [],
   "source": []
  },
  {
   "cell_type": "code",
   "execution_count": null,
   "id": "366a7cb1",
   "metadata": {},
   "outputs": [],
   "source": []
  },
  {
   "cell_type": "code",
   "execution_count": null,
   "id": "9406e4b1",
   "metadata": {},
   "outputs": [],
   "source": []
  },
  {
   "cell_type": "code",
   "execution_count": null,
   "id": "891f51f7",
   "metadata": {},
   "outputs": [],
   "source": []
  },
  {
   "cell_type": "code",
   "execution_count": null,
   "id": "7c29fa19",
   "metadata": {},
   "outputs": [],
   "source": []
  },
  {
   "cell_type": "code",
   "execution_count": null,
   "id": "9da831a9",
   "metadata": {},
   "outputs": [],
   "source": []
  },
  {
   "cell_type": "code",
   "execution_count": null,
   "id": "d4b3d674",
   "metadata": {},
   "outputs": [],
   "source": []
  },
  {
   "cell_type": "code",
   "execution_count": null,
   "id": "eafbefc8",
   "metadata": {},
   "outputs": [],
   "source": []
  },
  {
   "cell_type": "code",
   "execution_count": null,
   "id": "ad82c5ab",
   "metadata": {},
   "outputs": [],
   "source": []
  },
  {
   "cell_type": "code",
   "execution_count": null,
   "id": "85b528f2",
   "metadata": {},
   "outputs": [],
   "source": []
  },
  {
   "cell_type": "code",
   "execution_count": null,
   "id": "59f1dd46",
   "metadata": {},
   "outputs": [],
   "source": []
  },
  {
   "cell_type": "code",
   "execution_count": null,
   "id": "d0bceca9",
   "metadata": {},
   "outputs": [],
   "source": []
  },
  {
   "cell_type": "code",
   "execution_count": null,
   "id": "225ac3aa",
   "metadata": {},
   "outputs": [],
   "source": []
  }
 ],
 "metadata": {
  "kernelspec": {
   "display_name": "Python 3",
   "language": "python",
   "name": "python3"
  },
  "language_info": {
   "codemirror_mode": {
    "name": "ipython",
    "version": 3
   },
   "file_extension": ".py",
   "mimetype": "text/x-python",
   "name": "python",
   "nbconvert_exporter": "python",
   "pygments_lexer": "ipython3",
   "version": "3.8.8"
  }
 },
 "nbformat": 4,
 "nbformat_minor": 5
}
